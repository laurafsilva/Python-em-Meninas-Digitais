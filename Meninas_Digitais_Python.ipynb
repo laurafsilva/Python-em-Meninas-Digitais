{
  "nbformat": 4,
  "nbformat_minor": 0,
  "metadata": {
    "colab": {
      "provenance": [],
      "authorship_tag": "ABX9TyPccSkCBs35cUsHs0wj3lFH",
      "include_colab_link": true
    },
    "kernelspec": {
      "name": "python3",
      "display_name": "Python 3"
    },
    "language_info": {
      "name": "python"
    }
  },
  "cells": [
    {
      "cell_type": "markdown",
      "metadata": {
        "id": "view-in-github",
        "colab_type": "text"
      },
      "source": [
        "<a href=\"https://colab.research.google.com/github/laurafsilva/Python-em-Meninas-Digitais/blob/main/Meninas_Digitais_Python.ipynb\" target=\"_parent\"><img src=\"https://colab.research.google.com/assets/colab-badge.svg\" alt=\"Open In Colab\"/></a>"
      ]
    },
    {
      "cell_type": "code",
      "execution_count": null,
      "metadata": {
        "colab": {
          "base_uri": "https://localhost:8080/"
        },
        "id": "3-MsK1-6dKv2",
        "outputId": "edacc52d-8709-4d73-ba25-be5e07512a7c"
      },
      "outputs": [
        {
          "output_type": "stream",
          "name": "stdout",
          "text": [
            "Hello Word\n"
          ]
        }
      ],
      "source": [
        "print(\"Hello Word\")"
      ]
    },
    {
      "cell_type": "code",
      "source": [
        "nome = input(\"Digite seu nome: \")\n",
        "idade_input = input(\"Digite sua idade: \")\n",
        "idade = int(idade_input)"
      ],
      "metadata": {
        "colab": {
          "base_uri": "https://localhost:8080/"
        },
        "id": "w1F5h2cGdYY6",
        "outputId": "8c0db29d-c173-4490-c350-8a9f7eeb70bf"
      },
      "execution_count": null,
      "outputs": [
        {
          "name": "stdout",
          "output_type": "stream",
          "text": [
            "Digite seu nome: Laura\n",
            "Digite sua idade: 17\n"
          ]
        }
      ]
    },
    {
      "cell_type": "code",
      "source": [
        "x=7\n",
        "y=5.3\n",
        "if(x>y):\n",
        "  print(\"x é maior que y\")\n",
        "else:\n",
        "  print(\"x é menor que y\")"
      ],
      "metadata": {
        "colab": {
          "base_uri": "https://localhost:8080/"
        },
        "id": "I8nIv5hQeQyi",
        "outputId": "b2a1df75-2c6d-4232-d8aa-630c349763ee"
      },
      "execution_count": null,
      "outputs": [
        {
          "output_type": "stream",
          "name": "stdout",
          "text": [
            "x é maior que y\n"
          ]
        }
      ]
    },
    {
      "cell_type": "code",
      "source": [
        "print(\"nome = \", nome)\n",
        "print(f\"O nome da cliente é {nome} e a idade é {idade}\")\n",
        "print(f\"{x} é maior que {y}\", end = \" \")\n",
        "print(\"Esse foi o resultado do teste\")\n",
        "print(\"Laura\", \"Cliente\", \"banco\", sep=\" - \")"
      ],
      "metadata": {
        "colab": {
          "base_uri": "https://localhost:8080/"
        },
        "id": "rUOOVj23ezwb",
        "outputId": "e06281b4-a505-4d56-fd01-10d4f01cd6bf"
      },
      "execution_count": null,
      "outputs": [
        {
          "output_type": "stream",
          "name": "stdout",
          "text": [
            "nome =  Laura\n",
            "O nome da cliente é Laura e a idade é 17\n",
            "7 é maior que 5.3 Esse foi o resultado do teste\n",
            "Laura - Cliente - banco\n"
          ]
        }
      ]
    },
    {
      "cell_type": "code",
      "source": [
        "c = \"/\"\n",
        "a = 4\n",
        "b = 2\n",
        "if (c ==\"+\"):\n",
        "  d=a+b\n",
        "else:\n",
        "  if(c==\"-\"):\n",
        "    d = a-b\n",
        "  else:\n",
        "    if(c==\"*\"):\n",
        "      d=a*b\n",
        "    else:\n",
        "      if(c==\"/\"):\n",
        "        d=a/b\n",
        "print(\"resultado =\", d)"
      ],
      "metadata": {
        "colab": {
          "base_uri": "https://localhost:8080/"
        },
        "id": "JPmNXXoCh27M",
        "outputId": "9ebd2837-744a-406c-dfe5-f779c7d9b0ee"
      },
      "execution_count": null,
      "outputs": [
        {
          "output_type": "stream",
          "name": "stdout",
          "text": [
            "resultado = 2.0\n"
          ]
        }
      ]
    },
    {
      "cell_type": "code",
      "source": [
        "resto_da_divisao = a%b\n",
        "elevado = a**b\n",
        "print(f\"O resto da divisão de {a} por {b} é igual a {resto_da_divisao}\")\n",
        "print(f\"{a} elevado a {b} é igual a {elevado}\")"
      ],
      "metadata": {
        "colab": {
          "base_uri": "https://localhost:8080/"
        },
        "id": "qPlZYtDMjRwr",
        "outputId": "d98eff95-ce37-478c-ee94-fc296455ab38"
      },
      "execution_count": null,
      "outputs": [
        {
          "output_type": "stream",
          "name": "stdout",
          "text": [
            "O resto da divisão de 4 por 2 é igual a 0\n",
            "4 elevado a 2 é igual a 16\n"
          ]
        }
      ]
    },
    {
      "cell_type": "code",
      "source": [
        "import cmath\n",
        "i=5\n",
        "j=3.14\n",
        "g=complex(2,3)\n",
        "h=5+3j\n",
        "print(i, j, g, h)\n",
        "\n",
        "print(h.real)\n",
        "print(h.imag)\n",
        "\n",
        "print(g.real)\n",
        "print(g.imag)\n"
      ],
      "metadata": {
        "colab": {
          "base_uri": "https://localhost:8080/"
        },
        "id": "p_pUtK-gkIL8",
        "outputId": "508f9977-09af-4915-c330-57635f3a8835"
      },
      "execution_count": null,
      "outputs": [
        {
          "output_type": "stream",
          "name": "stdout",
          "text": [
            "5 3.14 (2+3j) (5+3j)\n",
            "5.0\n",
            "3.0\n",
            "2.0\n",
            "3.0\n"
          ]
        }
      ]
    },
    {
      "cell_type": "code",
      "source": [
        "#método split()\n",
        "texto = \"Meninas Digitais na Baixada Fluminense\"\n",
        "palavras = texto.split()\n",
        "print(palavras)"
      ],
      "metadata": {
        "colab": {
          "base_uri": "https://localhost:8080/"
        },
        "id": "W-ItYJl2hUYp",
        "outputId": "c1ff366e-1c1f-4e15-e53c-c0cbfef219ae"
      },
      "execution_count": null,
      "outputs": [
        {
          "output_type": "stream",
          "name": "stdout",
          "text": [
            "['Meninas', 'Digitais', 'na', 'Baixada', 'Fluminense']\n"
          ]
        }
      ]
    },
    {
      "cell_type": "code",
      "source": [
        "#split - usando separador especifico\n",
        "data = \"16-09-2025\"\n",
        "partes_data = data.split('-')\n",
        "print(partes_data)"
      ],
      "metadata": {
        "colab": {
          "base_uri": "https://localhost:8080/"
        },
        "id": "wvz4c36yhpcp",
        "outputId": "04ef0ae9-9b0d-4b5d-d96b-036f951824f4"
      },
      "execution_count": null,
      "outputs": [
        {
          "output_type": "stream",
          "name": "stdout",
          "text": [
            "['16', '09', '2025']\n"
          ]
        }
      ]
    },
    {
      "cell_type": "code",
      "source": [
        "#split - usando número máximo de cortes\n",
        "text_separado = \"Curso-de-Python-Meninas-Digitais\"\n",
        "primeira_divisao = text_separado.split('-', 1)\n",
        "print(primeira_divisao)\n",
        "divisao = text_separado.split('-', 3)\n",
        "print(divisao)"
      ],
      "metadata": {
        "colab": {
          "base_uri": "https://localhost:8080/"
        },
        "id": "rffbWfKEiXuf",
        "outputId": "a70af3a3-d435-4773-af5d-4812cf39e4b8"
      },
      "execution_count": null,
      "outputs": [
        {
          "output_type": "stream",
          "name": "stdout",
          "text": [
            "['Curso', 'de-Python-Meninas-Digitais']\n",
            "['Curso', 'de', 'Python', 'Meninas-Digitais']\n"
          ]
        }
      ]
    },
    {
      "cell_type": "code",
      "source": [
        "#concatenando String\n",
        "projeto = \"Meninas Digitais\"\n",
        "local = \"Baixada Fluminense\"\n",
        "\n",
        "digaoi = \"Oi, \" + projeto + \"!\"\n",
        "print(digaoi)\n",
        "\n",
        "mensagem = f\"O nome do projeto é {projeto} e é executado na {local}\"\n",
        "print(mensagem)\n",
        "\n",
        "tamanho = len(projeto)\n",
        "print(tamanho)\n",
        "tamanho2 = len(digaoi)\n",
        "print(tamanho2)\n",
        "\n",
        "#subdividindo strings\n",
        "substring = projeto[0:7]\n",
        "print(substring)\n",
        "substring2 = projeto[-8:]\n",
        "print(substring2)\n",
        "substring3 = projeto[-8]\n",
        "print(substring3)\n",
        "\n",
        "maiusculo = projeto.upper()\n",
        "print(maiusculo)\n",
        "\n",
        "minuscula = projeto.lower()\n",
        "print(minuscula)"
      ],
      "metadata": {
        "colab": {
          "base_uri": "https://localhost:8080/"
        },
        "id": "L3fX7PeBi43z",
        "outputId": "1073328c-9bf0-4df0-8535-03e9ad01a95e"
      },
      "execution_count": null,
      "outputs": [
        {
          "output_type": "stream",
          "name": "stdout",
          "text": [
            "Oi, Meninas Digitais!\n",
            "O nome do projeto é Meninas Digitais e é executado na Baixada Fluminense\n",
            "16\n",
            "21\n",
            "Meninas\n",
            "Digitais\n",
            "D\n",
            "MENINAS DIGITAIS\n",
            "meninas digitais\n"
          ]
        }
      ]
    }
  ]
}